{
  "nbformat": 4,
  "nbformat_minor": 0,
  "metadata": {
    "colab": {
      "name": "create.ipynb",
      "provenance": [],
      "authorship_tag": "ABX9TyOHTQ60kKe1g2tJvWlCkI8G",
      "include_colab_link": true
    },
    "kernelspec": {
      "name": "python3",
      "display_name": "Python 3"
    },
    "language_info": {
      "name": "python"
    }
  },
  "cells": [
    {
      "cell_type": "markdown",
      "metadata": {
        "id": "view-in-github",
        "colab_type": "text"
      },
      "source": [
        "<a href=\"https://colab.research.google.com/github/spoorthi2003/2216145_aiml-boot-camp/blob/main/create.ipynb\" target=\"_parent\"><img src=\"https://colab.research.google.com/assets/colab-badge.svg\" alt=\"Open In Colab\"/></a>"
      ]
    },
    {
      "cell_type": "code",
      "execution_count": 1,
      "metadata": {
        "colab": {
          "base_uri": "https://localhost:8080/"
        },
        "id": "uOc1kQcIgftF",
        "outputId": "1d69a01b-f8a5-4ceb-adc0-d607be8749f0"
      },
      "outputs": [
        {
          "output_type": "execute_result",
          "data": {
            "text/plain": [
              "<sqlite3.Cursor at 0x7fc0f989ee30>"
            ]
          },
          "metadata": {},
          "execution_count": 1
        }
      ],
      "source": [
        "import sqlite3\n",
        "conn=sqlite3.connect('Bootcamp.db') #step 2 and step 3\n",
        "\n",
        "'''\n",
        "query -> create table table_name(column_names datatype constraints(primary key, not null, unique),.......)\n",
        "'''\n",
        "query = '''\n",
        "        create table participants(g_id int primary key,name text not null,branch text not null)\n",
        "        '''\n",
        "conn.execute(query)"
      ]
    }
  ]
}