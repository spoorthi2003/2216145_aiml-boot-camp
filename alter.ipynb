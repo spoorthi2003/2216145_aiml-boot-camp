{
  "nbformat": 4,
  "nbformat_minor": 0,
  "metadata": {
    "colab": {
      "name": "alter.ipynb",
      "provenance": [],
      "authorship_tag": "ABX9TyNEqscsmcHxEeFYYHMeHZxQ",
      "include_colab_link": true
    },
    "kernelspec": {
      "name": "python3",
      "display_name": "Python 3"
    },
    "language_info": {
      "name": "python"
    }
  },
  "cells": [
    {
      "cell_type": "markdown",
      "metadata": {
        "id": "view-in-github",
        "colab_type": "text"
      },
      "source": [
        "<a href=\"https://colab.research.google.com/github/spoorthi2003/2216145_aiml-boot-camp/blob/main/alter.ipynb\" target=\"_parent\"><img src=\"https://colab.research.google.com/assets/colab-badge.svg\" alt=\"Open In Colab\"/></a>"
      ]
    },
    {
      "cell_type": "code",
      "execution_count": 1,
      "metadata": {
        "colab": {
          "base_uri": "https://localhost:8080/",
          "height": 236
        },
        "id": "XtYresrAe_02",
        "outputId": "dfe4c0b9-5bed-4d2d-b605-40b0d2d954d8"
      },
      "outputs": [
        {
          "output_type": "error",
          "ename": "OperationalError",
          "evalue": "ignored",
          "traceback": [
            "\u001b[0;31m---------------------------------------------------------------------------\u001b[0m",
            "\u001b[0;31mOperationalError\u001b[0m                          Traceback (most recent call last)",
            "\u001b[0;32m<ipython-input-1-9bd46f4497ba>\u001b[0m in \u001b[0;36m<module>\u001b[0;34m()\u001b[0m\n\u001b[1;32m      8\u001b[0m         \u001b[0malter\u001b[0m \u001b[0mtable\u001b[0m \u001b[0mparticipants\u001b[0m \u001b[0madd\u001b[0m \u001b[0mcolumn\u001b[0m \u001b[0mstudy\u001b[0m \u001b[0mtext\u001b[0m \u001b[0;32mnot\u001b[0m \u001b[0mnull\u001b[0m\u001b[0;34m\u001b[0m\u001b[0;34m\u001b[0m\u001b[0m\n\u001b[1;32m      9\u001b[0m         '''\n\u001b[0;32m---> 10\u001b[0;31m \u001b[0mconn\u001b[0m\u001b[0;34m.\u001b[0m\u001b[0mexecute\u001b[0m\u001b[0;34m(\u001b[0m\u001b[0mquery\u001b[0m\u001b[0;34m)\u001b[0m\u001b[0;34m\u001b[0m\u001b[0;34m\u001b[0m\u001b[0m\n\u001b[0m\u001b[1;32m     11\u001b[0m \u001b[0;34m\u001b[0m\u001b[0m\n\u001b[1;32m     12\u001b[0m \u001b[0mconn\u001b[0m\u001b[0;34m.\u001b[0m\u001b[0mcommit\u001b[0m\u001b[0;34m(\u001b[0m\u001b[0;34m)\u001b[0m\u001b[0;34m\u001b[0m\u001b[0;34m\u001b[0m\u001b[0m\n",
            "\u001b[0;31mOperationalError\u001b[0m: no such table: participants"
          ]
        }
      ],
      "source": [
        "import sqlite3\n",
        "conn=sqlite3.connect('Bootcamp.db') #step 2 and step 3\n",
        "\n",
        "'''\n",
        "query--> alter table table_name add column column_name datatype constraints\n",
        "'''\n",
        "query = '''\n",
        "        alter table participants add column study text not null\n",
        "        '''\n",
        "conn.execute(query)\n",
        "\n",
        "conn.commit()\n",
        "conn.close()"
      ]
    }
  ]
}