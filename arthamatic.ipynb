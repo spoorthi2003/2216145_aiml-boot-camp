{
  "nbformat": 4,
  "nbformat_minor": 0,
  "metadata": {
    "colab": {
      "name": "arthamatic.ipynb",
      "provenance": [],
      "authorship_tag": "ABX9TyN5Q/ShXGOo8o57Q+lEnYJW",
      "include_colab_link": true
    },
    "kernelspec": {
      "name": "python3",
      "display_name": "Python 3"
    },
    "language_info": {
      "name": "python"
    }
  },
  "cells": [
    {
      "cell_type": "markdown",
      "metadata": {
        "id": "view-in-github",
        "colab_type": "text"
      },
      "source": [
        "<a href=\"https://colab.research.google.com/github/spoorthi2003/2216145_aiml-boot-camp/blob/main/arthamatic.ipynb\" target=\"_parent\"><img src=\"https://colab.research.google.com/assets/colab-badge.svg\" alt=\"Open In Colab\"/></a>"
      ]
    },
    {
      "cell_type": "code",
      "execution_count": null,
      "metadata": {
        "id": "ul5pprP6fda9"
      },
      "outputs": [],
      "source": [
        "def addn(x,y):\n",
        "    return x+y\n",
        "\n",
        "def subn(x,y):\n",
        "    return x-y\n",
        "\n",
        "def mul(x,y):\n",
        "    return x*"
      ]
    }
  ]
}