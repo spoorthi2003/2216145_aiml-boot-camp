{
  "nbformat": 4,
  "nbformat_minor": 0,
  "metadata": {
    "colab": {
      "name": "assigment1.ipynb",
      "provenance": [],
      "authorship_tag": "ABX9TyMKjVom3KLsyc24OV5ZhwP7",
      "include_colab_link": true
    },
    "kernelspec": {
      "name": "python3",
      "display_name": "Python 3"
    },
    "language_info": {
      "name": "python"
    }
  },
  "cells": [
    {
      "cell_type": "markdown",
      "metadata": {
        "id": "view-in-github",
        "colab_type": "text"
      },
      "source": [
        "<a href=\"https://colab.research.google.com/github/spoorthi2003/2216145_aiml-boot-camp/blob/main/assigment1.ipynb\" target=\"_parent\"><img src=\"https://colab.research.google.com/assets/colab-badge.svg\" alt=\"Open In Colab\"/></a>"
      ]
    },
    {
      "cell_type": "code",
      "source": [
        "st=\"welcome to AI&ML bootcamp\"\n",
        "print(st.upper())\n",
        "print(st.lower())\n",
        "print(st.swapcase())\n",
        "print(st.title())\n",
        "print(st.capitalize())\n",
        "statement=\"   step for your goal   \"\n",
        "print(statement.strip())\n",
        "print(statement.lstrip())\n",
        "print(statement.rstrip())"
      ],
      "metadata": {
        "colab": {
          "base_uri": "https://localhost:8080/"
        },
        "id": "1f7iOLXpE0s9",
        "outputId": "1a7cd7d8-c9ef-4a0d-9273-93bb0339237c"
      },
      "execution_count": 1,
      "outputs": [
        {
          "output_type": "stream",
          "name": "stdout",
          "text": [
            "WELCOME TO AI&ML BOOTCAMP\n",
            "welcome to ai&ml bootcamp\n",
            "WELCOME TO ai&ml BOOTCAMP\n",
            "Welcome To Ai&Ml Bootcamp\n",
            "Welcome to ai&ml bootcamp\n",
            "step for your goal\n",
            "step for your goal   \n",
            "   step for your goal\n"
          ]
        }
      ]
    },
    {
      "cell_type": "code",
      "source": [
        "list=[\"spoorthi\",\"hamsa\",\"anjana\",\"jeevana\"]\n",
        "list.append(\"anjana\")\n",
        "print(list)"
      ],
      "metadata": {
        "colab": {
          "base_uri": "https://localhost:8080/"
        },
        "id": "_qnHvk6VF-bb",
        "outputId": "53cc992e-0d29-4c43-d7b2-ac17253c2be6"
      },
      "execution_count": 2,
      "outputs": [
        {
          "output_type": "stream",
          "name": "stdout",
          "text": [
            "['spoorthi', 'hamsa', 'anjana', 'jeevana', 'anjana']\n"
          ]
        }
      ]
    },
    {
      "cell_type": "code",
      "source": [
        "list.extend([\"team\",\"mates\",\"for\",\"AI&ML\",\"bootcamp\"])\n",
        "print(list)"
      ],
      "metadata": {
        "colab": {
          "base_uri": "https://localhost:8080/"
        },
        "id": "6PNsjBuyGdT-",
        "outputId": "9b21d252-0361-4ca3-97c8-abaa184c7667"
      },
      "execution_count": 3,
      "outputs": [
        {
          "output_type": "stream",
          "name": "stdout",
          "text": [
            "['spoorthi', 'hamsa', 'anjana', 'jeevana', 'anjana', 'team', 'mates', 'for', 'AI&ML', 'bootcamp']\n"
          ]
        }
      ]
    },
    {
      "cell_type": "code",
      "source": [
        "list.insert(0,\"we are\")\n",
        "print(list)"
      ],
      "metadata": {
        "colab": {
          "base_uri": "https://localhost:8080/"
        },
        "id": "ISuY8kA5Gmk0",
        "outputId": "cd95b154-03e9-45cd-9ef8-d431cef1f631"
      },
      "execution_count": 4,
      "outputs": [
        {
          "output_type": "stream",
          "name": "stdout",
          "text": [
            "['we are', 'spoorthi', 'hamsa', 'anjana', 'jeevana', 'anjana', 'team', 'mates', 'for', 'AI&ML', 'bootcamp']\n"
          ]
        }
      ]
    },
    {
      "cell_type": "code",
      "source": [
        "del list[0]\n",
        "print(list)"
      ],
      "metadata": {
        "colab": {
          "base_uri": "https://localhost:8080/"
        },
        "id": "fHk2dQ2MGowc",
        "outputId": "efdacd9b-469f-4566-d560-688e4d3d1301"
      },
      "execution_count": 5,
      "outputs": [
        {
          "output_type": "stream",
          "name": "stdout",
          "text": [
            "['spoorthi', 'hamsa', 'anjana', 'jeevana', 'anjana', 'team', 'mates', 'for', 'AI&ML', 'bootcamp']\n"
          ]
        }
      ]
    },
    {
      "cell_type": "code",
      "source": [
        "del list[6:8]\n",
        "print(list)"
      ],
      "metadata": {
        "colab": {
          "base_uri": "https://localhost:8080/"
        },
        "id": "NrAxi7tnGuvX",
        "outputId": "8ea2b297-f312-4e02-e2e0-a87048d11e9c"
      },
      "execution_count": 6,
      "outputs": [
        {
          "output_type": "stream",
          "name": "stdout",
          "text": [
            "['spoorthi', 'hamsa', 'anjana', 'jeevana', 'anjana', 'team', 'AI&ML', 'bootcamp']\n"
          ]
        }
      ]
    },
    {
      "cell_type": "code",
      "source": [
        "list.remove(\"hamsa\")\n",
        "print(list)"
      ],
      "metadata": {
        "colab": {
          "base_uri": "https://localhost:8080/"
        },
        "id": "CHtsEkuaHcOY",
        "outputId": "64295925-5ec9-446e-8125-2f693aac9dea"
      },
      "execution_count": 7,
      "outputs": [
        {
          "output_type": "stream",
          "name": "stdout",
          "text": [
            "['spoorthi', 'anjana', 'jeevana', 'anjana', 'team', 'AI&ML', 'bootcamp']\n"
          ]
        }
      ]
    },
    {
      "cell_type": "code",
      "source": [
        "list.pop(0)\n",
        "print(list)"
      ],
      "metadata": {
        "colab": {
          "base_uri": "https://localhost:8080/"
        },
        "id": "MHzCE8S1HsPI",
        "outputId": "7c1ffaef-5d1e-4317-a223-796541eb2ed9"
      },
      "execution_count": 8,
      "outputs": [
        {
          "output_type": "stream",
          "name": "stdout",
          "text": [
            "['anjana', 'jeevana', 'anjana', 'team', 'AI&ML', 'bootcamp']\n"
          ]
        }
      ]
    },
    {
      "cell_type": "code",
      "source": [
        "print(list.count(\"AI&ML\"))"
      ],
      "metadata": {
        "colab": {
          "base_uri": "https://localhost:8080/"
        },
        "id": "f_tgJnzPHyn1",
        "outputId": "0dd3dbb0-b419-4fe1-f686-5c46528f8139"
      },
      "execution_count": 9,
      "outputs": [
        {
          "output_type": "stream",
          "name": "stdout",
          "text": [
            "1\n"
          ]
        }
      ]
    },
    {
      "cell_type": "code",
      "source": [
        "print(len(list))"
      ],
      "metadata": {
        "colab": {
          "base_uri": "https://localhost:8080/"
        },
        "id": "mgwPqGBYH3rh",
        "outputId": "8970ea52-2f77-49af-a6cd-0b3bfbfe4db4"
      },
      "execution_count": 10,
      "outputs": [
        {
          "output_type": "stream",
          "name": "stdout",
          "text": [
            "6\n"
          ]
        }
      ]
    },
    {
      "cell_type": "code",
      "source": [
        "list.sort()\n",
        "print(list)"
      ],
      "metadata": {
        "colab": {
          "base_uri": "https://localhost:8080/"
        },
        "id": "ulpF4yJ1H9IM",
        "outputId": "0d70c1f2-d4e5-4867-8f5c-1bf2af85266a"
      },
      "execution_count": 11,
      "outputs": [
        {
          "output_type": "stream",
          "name": "stdout",
          "text": [
            "['AI&ML', 'anjana', 'anjana', 'bootcamp', 'jeevana', 'team']\n"
          ]
        }
      ]
    },
    {
      "cell_type": "code",
      "source": [
        "list.reverse()\n",
        "print(list)"
      ],
      "metadata": {
        "colab": {
          "base_uri": "https://localhost:8080/"
        },
        "id": "LdO0whEVICua",
        "outputId": "c8447371-015e-464e-dd16-3b4b5cd1b99a"
      },
      "execution_count": 12,
      "outputs": [
        {
          "output_type": "stream",
          "name": "stdout",
          "text": [
            "['team', 'jeevana', 'bootcamp', 'anjana', 'anjana', 'AI&ML']\n"
          ]
        }
      ]
    },
    {
      "cell_type": "code",
      "source": [
        "print(list[::-1])"
      ],
      "metadata": {
        "colab": {
          "base_uri": "https://localhost:8080/"
        },
        "id": "gO9EZJ14ILKw",
        "outputId": "e174266e-740b-448d-b99a-aa0cff47b25a"
      },
      "execution_count": 13,
      "outputs": [
        {
          "output_type": "stream",
          "name": "stdout",
          "text": [
            "['AI&ML', 'anjana', 'anjana', 'bootcamp', 'jeevana', 'team']\n"
          ]
        }
      ]
    },
    {
      "cell_type": "code",
      "source": [
        "list.clear()\n",
        "print(list)"
      ],
      "metadata": {
        "colab": {
          "base_uri": "https://localhost:8080/"
        },
        "id": "hNvz4asPINe6",
        "outputId": "f2744c9c-d088-44de-d901-662a99c40dd4"
      },
      "execution_count": 14,
      "outputs": [
        {
          "output_type": "stream",
          "name": "stdout",
          "text": [
            "[]\n"
          ]
        }
      ]
    },
    {
      "cell_type": "code",
      "source": [
        "day1=(\"python\",13.7,100,5,9,100,100)\n",
        "print(day1.count(100))\n",
        "print(day1.index(5))"
      ],
      "metadata": {
        "colab": {
          "base_uri": "https://localhost:8080/"
        },
        "id": "IKjwWmHYIlzb",
        "outputId": "b6ed0205-16d5-4347-983d-cdcac279a0c0"
      },
      "execution_count": 19,
      "outputs": [
        {
          "output_type": "stream",
          "name": "stdout",
          "text": [
            "3\n",
            "3\n"
          ]
        }
      ]
    },
    {
      "cell_type": "code",
      "source": [
        "day2=(1,8,9,600,8)\n",
        "print(max(day2))\n",
        "print(min(day2))\n",
        "print(len(day2))"
      ],
      "metadata": {
        "id": "zeJODecuJFAg",
        "outputId": "b1cdaa02-550c-4991-be90-087e1fc02df4",
        "colab": {
          "base_uri": "https://localhost:8080/"
        }
      },
      "execution_count": 20,
      "outputs": [
        {
          "output_type": "stream",
          "name": "stdout",
          "text": [
            "600\n",
            "1\n",
            "5\n"
          ]
        }
      ]
    },
    {
      "cell_type": "code",
      "source": [
        "data={'name':'spoorthi','branch':'cse','hallno':'2216145','year':'3'} #static declaration\n",
        "print(data['name'])\n",
        "print(data.keys())\n",
        "print(data.values())\n",
        "print(data.get('name'))"
      ],
      "metadata": {
        "id": "9MCGTb9kJHkZ",
        "outputId": "2185fbb2-ef67-4e20-9ce5-0b176868102f",
        "colab": {
          "base_uri": "https://localhost:8080/"
        }
      },
      "execution_count": 21,
      "outputs": [
        {
          "output_type": "stream",
          "name": "stdout",
          "text": [
            "spoorthi\n",
            "dict_keys(['name', 'branch', 'hallno', 'year'])\n",
            "dict_values(['spoorthi', 'cse', '2216145', '3'])\n",
            "spoorthi\n"
          ]
        }
      ]
    },
    {
      "cell_type": "code",
      "source": [
        "set={\"ssd\",250,600,2040}\n",
        "set.add(2)\n",
        "print(set)"
      ],
      "metadata": {
        "id": "rVgInNCQJhkd",
        "outputId": "73c05585-1442-4754-9b38-715cf5ae05a6",
        "colab": {
          "base_uri": "https://localhost:8080/"
        }
      },
      "execution_count": 22,
      "outputs": [
        {
          "output_type": "stream",
          "name": "stdout",
          "text": [
            "{2, 2040, 'ssd', 600, 250}\n"
          ]
        }
      ]
    },
    {
      "cell_type": "code",
      "source": [
        "set.update([250,600,1080])\n",
        "print(set)"
      ],
      "metadata": {
        "id": "R2vb0DvUJjkB",
        "outputId": "a3a33ed2-3516-4bf2-e923-23f0239a71cf",
        "colab": {
          "base_uri": "https://localhost:8080/"
        }
      },
      "execution_count": 23,
      "outputs": [
        {
          "output_type": "stream",
          "name": "stdout",
          "text": [
            "{2, 2040, 1080, 'ssd', 600, 250}\n"
          ]
        }
      ]
    },
    {
      "cell_type": "code",
      "source": [
        "set.discard(\"ssd\")\n",
        "print(set)"
      ],
      "metadata": {
        "id": "6dXGYSZzJr74",
        "outputId": "bd593400-dadf-429d-8a48-82a55e143255",
        "colab": {
          "base_uri": "https://localhost:8080/"
        }
      },
      "execution_count": 24,
      "outputs": [
        {
          "output_type": "stream",
          "name": "stdout",
          "text": [
            "{2, 2040, 1080, 600, 250}\n"
          ]
        }
      ]
    },
    {
      "cell_type": "code",
      "source": [
        "set.remove(1080)\n",
        "print(set)"
      ],
      "metadata": {
        "id": "dO556KuFJumT",
        "outputId": "565eb185-d42d-4605-d901-6f9d6fbf6c6c",
        "colab": {
          "base_uri": "https://localhost:8080/"
        }
      },
      "execution_count": 25,
      "outputs": [
        {
          "output_type": "stream",
          "name": "stdout",
          "text": [
            "{2, 2040, 600, 250}\n"
          ]
        }
      ]
    },
    {
      "cell_type": "code",
      "source": [
        "set2={999,111,222,888}\n",
        "print(set.union(set2))"
      ],
      "metadata": {
        "id": "XQ5or-VZJ2yF",
        "outputId": "ac30e768-bba4-4564-d589-f4372aba091e",
        "colab": {
          "base_uri": "https://localhost:8080/"
        }
      },
      "execution_count": 26,
      "outputs": [
        {
          "output_type": "stream",
          "name": "stdout",
          "text": [
            "{2, 999, 600, 111, 888, 2040, 250, 222}\n"
          ]
        }
      ]
    },
    {
      "cell_type": "code",
      "source": [
        "print(set|set2)"
      ],
      "metadata": {
        "id": "uBkTvR7lJ7p_",
        "outputId": "a86f9289-f023-47b1-c1f6-2e7543adf7cb",
        "colab": {
          "base_uri": "https://localhost:8080/"
        }
      },
      "execution_count": 27,
      "outputs": [
        {
          "output_type": "stream",
          "name": "stdout",
          "text": [
            "{2, 999, 600, 111, 888, 2040, 250, 222}\n"
          ]
        }
      ]
    },
    {
      "cell_type": "code",
      "source": [
        "print(set&set2)"
      ],
      "metadata": {
        "id": "J0QgKcxMKIgp",
        "outputId": "5481f85c-29d3-4d8e-989c-249786d95809",
        "colab": {
          "base_uri": "https://localhost:8080/"
        }
      },
      "execution_count": 28,
      "outputs": [
        {
          "output_type": "stream",
          "name": "stdout",
          "text": [
            "set()\n"
          ]
        }
      ]
    },
    {
      "cell_type": "code",
      "source": [
        "print(set2.intersection(set))"
      ],
      "metadata": {
        "id": "Em0aczmpKOF4",
        "outputId": "a0682c37-bada-40e1-ade2-e2b439204fe6",
        "colab": {
          "base_uri": "https://localhost:8080/"
        }
      },
      "execution_count": 29,
      "outputs": [
        {
          "output_type": "stream",
          "name": "stdout",
          "text": [
            "set()\n"
          ]
        }
      ]
    },
    {
      "cell_type": "code",
      "source": [
        "print(set-set2)"
      ],
      "metadata": {
        "id": "Dg3uFRK-Khmy",
        "outputId": "4ccbe795-73e2-48d6-d3bd-f3b245794079",
        "colab": {
          "base_uri": "https://localhost:8080/"
        }
      },
      "execution_count": 30,
      "outputs": [
        {
          "output_type": "stream",
          "name": "stdout",
          "text": [
            "{2040, 250, 2, 600}\n"
          ]
        }
      ]
    },
    {
      "cell_type": "code",
      "source": [
        "print(set.difference(set2))"
      ],
      "metadata": {
        "id": "sbXWUA5pKl1Q",
        "outputId": "792d242a-f2a2-40b8-97ad-d16a50c063ce",
        "colab": {
          "base_uri": "https://localhost:8080/"
        }
      },
      "execution_count": 31,
      "outputs": [
        {
          "output_type": "stream",
          "name": "stdout",
          "text": [
            "{2040, 250, 2, 600}\n"
          ]
        }
      ]
    },
    {
      "cell_type": "code",
      "source": [
        "dec = int(input(\"Enter an integer: \"))\n",
        "print(\"The decimal value of is :\", dec)\n",
        "print(\"decimal to binary:\",bin(dec))"
      ],
      "metadata": {
        "id": "DsPP9z10KvTw",
        "outputId": "5030b7a3-db6c-4f49-a26a-b20dd2b520fa",
        "colab": {
          "base_uri": "https://localhost:8080/"
        }
      },
      "execution_count": 32,
      "outputs": [
        {
          "output_type": "stream",
          "name": "stdout",
          "text": [
            "Enter an integer: 2\n",
            "The decimal value of is : 2\n",
            "decimal to binary: 0b10\n"
          ]
        }
      ]
    },
    {
      "cell_type": "code",
      "source": [
        "print(\"decimal to  octal:\",oct(dec))\n",
        "\n",
        "print(\"decimal to hexadecimal:\",hex(dec),)"
      ],
      "metadata": {
        "id": "SL0GV_rLLLyr",
        "outputId": "13fac451-8881-4576-cae4-601d38bdc11c",
        "colab": {
          "base_uri": "https://localhost:8080/"
        }
      },
      "execution_count": 33,
      "outputs": [
        {
          "output_type": "stream",
          "name": "stdout",
          "text": [
            "decimal to  octal: 0o2\n",
            "decimal to hexadecimal: 0x2\n"
          ]
        }
      ]
    },
    {
      "cell_type": "code",
      "source": [
        "marks1 = int(input(\"Enter of marks1: \"))\n",
        "marks2 = int(input(\"Enter of marks2: \"))\n",
        "print(marks1+marks2)\n",
        "print(marks1-marks2)\n",
        "print(marks1*marks2)\n",
        "print(marks1/marks2)\n",
        "print(marks1//marks2)\n",
        "print(marks1%marks2)\n",
        "print(marks1**marks2)"
      ],
      "metadata": {
        "id": "tmGz0B48LNUx",
        "outputId": "90013af3-55ac-4b11-c19b-9bd3cfbd44b0",
        "colab": {
          "base_uri": "https://localhost:8080/"
        }
      },
      "execution_count": 35,
      "outputs": [
        {
          "output_type": "stream",
          "name": "stdout",
          "text": [
            "Enter of marks1: 5\n",
            "Enter of marks2: 6\n",
            "11\n",
            "-1\n",
            "30\n",
            "0.8333333333333334\n",
            "0\n",
            "5\n",
            "15625\n"
          ]
        }
      ]
    },
    {
      "cell_type": "code",
      "source": [
        "marks1 = int(input(\"Enter of marks1: \"))\n",
        "marks2 = int(input(\"Enter of marks2: \"))\n",
        "total=marks1+marks2\n",
        "print(total)\n",
        "total+=marks1\n",
        "print(total)\n",
        "total-=marks1\n",
        "print(total)\n",
        "total*=marks1\n",
        "print(total)\n",
        "total/=marks1\n",
        "print(total)\n",
        "total%=marks1\n",
        "print(total)\n",
        "total**=marks1\n",
        "print(total)"
      ],
      "metadata": {
        "id": "OEocL16bLk_-",
        "outputId": "371a22c3-5cab-48c5-d0f6-5f7e17c54676",
        "colab": {
          "base_uri": "https://localhost:8080/"
        }
      },
      "execution_count": 36,
      "outputs": [
        {
          "output_type": "stream",
          "name": "stdout",
          "text": [
            "Enter of marks1: 5\n",
            "Enter of marks2: 6\n",
            "11\n",
            "16\n",
            "11\n",
            "55\n",
            "11.0\n",
            "1.0\n",
            "1.0\n"
          ]
        }
      ]
    },
    {
      "cell_type": "code",
      "source": [
        "age1 = int(input(\"Enter of age1: \"))\n",
        "age2 = int(input(\"Enter of age2: \"))\n",
        "print(age1==age2)"
      ],
      "metadata": {
        "id": "JUbKv3mnLqFm",
        "outputId": "feab360c-5343-4628-be4e-1b5ceff73ca0",
        "colab": {
          "base_uri": "https://localhost:8080/"
        }
      },
      "execution_count": 37,
      "outputs": [
        {
          "output_type": "stream",
          "name": "stdout",
          "text": [
            "Enter of age1: 3\n",
            "Enter of age2: 8\n",
            "False\n"
          ]
        }
      ]
    },
    {
      "cell_type": "code",
      "source": [
        "print(age1!=age2)"
      ],
      "metadata": {
        "id": "pr7lLdeTMPGk",
        "outputId": "f24eaee0-c1a3-40b3-b764-97440fc31bf9",
        "colab": {
          "base_uri": "https://localhost:8080/"
        }
      },
      "execution_count": 38,
      "outputs": [
        {
          "output_type": "stream",
          "name": "stdout",
          "text": [
            "True\n"
          ]
        }
      ]
    },
    {
      "cell_type": "code",
      "source": [
        "print(age1>age2)\n",
        "print(age1<age2)\n",
        "print(age1>=age2)\n",
        "print(age1<=age2)"
      ],
      "metadata": {
        "id": "Hbhn9WDgMQot",
        "outputId": "a381f064-bf6b-4357-b7a6-43e5ab2d294b",
        "colab": {
          "base_uri": "https://localhost:8080/"
        }
      },
      "execution_count": 39,
      "outputs": [
        {
          "output_type": "stream",
          "name": "stdout",
          "text": [
            "False\n",
            "True\n",
            "False\n",
            "True\n"
          ]
        }
      ]
    },
    {
      "cell_type": "code",
      "source": [
        "print(age1>age2)\n",
        "print(age1<age2)\n",
        "print(age1>=age2)\n",
        "print(age1<=age2)"
      ],
      "metadata": {
        "id": "31jVu73cMWUm",
        "outputId": "2af8155d-7dde-40ae-8ce0-b26f3176b7b1",
        "colab": {
          "base_uri": "https://localhost:8080/"
        }
      },
      "execution_count": 40,
      "outputs": [
        {
          "output_type": "stream",
          "name": "stdout",
          "text": [
            "False\n",
            "True\n",
            "False\n",
            "True\n"
          ]
        }
      ]
    },
    {
      "cell_type": "code",
      "source": [
        "cost1=12\n",
        "cost2=7\n",
        "print(cost1&cost2)\n",
        "print(cost1^cost2)\n",
        "print(cost1|cost2)\n",
        "print(~cost1)\n",
        "print(cost1>>2)\n",
        "print(cost1<<4)"
      ],
      "metadata": {
        "id": "FgMY9PD6MerB",
        "outputId": "80f8cf7f-4c1b-41d2-8d94-1352503ed9a9",
        "colab": {
          "base_uri": "https://localhost:8080/"
        }
      },
      "execution_count": 41,
      "outputs": [
        {
          "output_type": "stream",
          "name": "stdout",
          "text": [
            "4\n",
            "11\n",
            "15\n",
            "-13\n",
            "3\n",
            "192\n"
          ]
        }
      ]
    },
    {
      "cell_type": "code",
      "source": [
        "st1=\"python language\"\n",
        "st2={6:'name',11:'b'}\n",
        "print(st1)\n",
        "print('l' in st1)\n",
        "print(st2)\n",
        "print(6 in st2)\n",
        "print(11 in st2)"
      ],
      "metadata": {
        "id": "h-xJKo6qMjyH",
        "outputId": "ddf1f266-63d3-42a5-9ca2-980f99b03458",
        "colab": {
          "base_uri": "https://localhost:8080/"
        }
      },
      "execution_count": 42,
      "outputs": [
        {
          "output_type": "stream",
          "name": "stdout",
          "text": [
            "python language\n",
            "True\n",
            "{6: 'name', 11: 'b'}\n",
            "True\n",
            "True\n"
          ]
        }
      ]
    },
    {
      "cell_type": "code",
      "source": [
        "data1=33\n",
        "st1=33\n",
        "data2=\"priority\"\n",
        "st2=\"priority\"\n",
        "data3=[111,222,333]\n",
        "st3=[111,222,333]\n",
        "print(data1 is not st1)\n",
        "print(data1 is  st1)\n",
        "print(data2 is st2)\n",
        "print(data2 is not st2)\n",
        "print(data3 is st3)\n",
        "print(data3 is not st3)"
      ],
      "metadata": {
        "id": "fL5T4a0sMoNm",
        "outputId": "7a2fe462-4bf0-4aaf-fb75-15d8928cc65a",
        "colab": {
          "base_uri": "https://localhost:8080/"
        }
      },
      "execution_count": 43,
      "outputs": [
        {
          "output_type": "stream",
          "name": "stdout",
          "text": [
            "False\n",
            "True\n",
            "True\n",
            "False\n",
            "False\n",
            "True\n"
          ]
        }
      ]
    },
    {
      "cell_type": "code",
      "source": [
        "data1=33\n",
        "st1=33\n",
        "data2=\"priority\"\n",
        "st2=\"priority\"\n",
        "data3=[111,222,333]\n",
        "st3=[111,222,333]\n",
        "print(data1 is not st1)\n",
        "print(data1 is  st1)\n",
        "print(data2 is st2)\n",
        "print(data2 is not st2)\n",
        "print(data3 is st3)\n",
        "print(data3 is not st3)"
      ],
      "metadata": {
        "id": "oLw5X8j-MuDg",
        "outputId": "fea22850-27f4-436a-9e56-f752e9e3dd1a",
        "colab": {
          "base_uri": "https://localhost:8080/"
        }
      },
      "execution_count": 44,
      "outputs": [
        {
          "output_type": "stream",
          "name": "stdout",
          "text": [
            "False\n",
            "True\n",
            "True\n",
            "False\n",
            "False\n",
            "True\n"
          ]
        }
      ]
    },
    {
      "cell_type": "code",
      "source": [
        "data1=33\n",
        "st1=33\n",
        "data2=\"priority\"\n",
        "st2=\"priority\"\n",
        "data3=[111,222,333]\n",
        "st3=[111,222,333]\n",
        "print(data1 is not st1)\n",
        "print(data1 is  st1)\n",
        "print(data2 is st2)\n",
        "print(data2 is not st2)\n",
        "print(data3 is st3)\n",
        "print(data3 is not st3)"
      ],
      "metadata": {
        "id": "rkaQcEDAM33d",
        "outputId": "3e430f87-a3e6-4e0c-927b-7bd40f90b348",
        "colab": {
          "base_uri": "https://localhost:8080/"
        }
      },
      "execution_count": 46,
      "outputs": [
        {
          "output_type": "stream",
          "name": "stdout",
          "text": [
            "False\n",
            "True\n",
            "True\n",
            "False\n",
            "False\n",
            "True\n"
          ]
        }
      ]
    },
    {
      "cell_type": "code",
      "source": [
        "places=['warangal','hyderabad','karimnagar','hanamkonda']\n",
        "print(places[::-1])\n",
        "print(places[-1])\n",
        "print(places[-2])\n",
        "print(places[-3])\n",
        "country=['india','USA','UK','Japan']\n",
        "print(\"indexing\")\n",
        "print(country[1])\n",
        "print(\" negative indexing\")\n",
        "print(country[-1])\n",
        "print(country[-2])\n",
        "print(country[2])"
      ],
      "metadata": {
        "id": "U3THCNPOM4-e",
        "outputId": "9f6b90ca-a7d6-4466-92d3-8004b3460dcb",
        "colab": {
          "base_uri": "https://localhost:8080/"
        }
      },
      "execution_count": 49,
      "outputs": [
        {
          "output_type": "stream",
          "name": "stdout",
          "text": [
            "['hanamkonda', 'karimnagar', 'hyderabad', 'warangal']\n",
            "hanamkonda\n",
            "karimnagar\n",
            "hyderabad\n",
            "indexing\n",
            "USA\n",
            " negative indexing\n",
            "Japan\n",
            "UK\n",
            "UK\n"
          ]
        }
      ]
    },
    {
      "cell_type": "code",
      "source": [
        "print(places[0:4:1]) \n",
        "print(places[0:4:2])\n",
        "print(places[0:4:3]) \n",
        "print(places[0:4:4]) \n",
        "print(places[-1::]) \n",
        "print(places[-5:-1:])"
      ],
      "metadata": {
        "id": "zy1IwzWFM5A_",
        "outputId": "d07440d9-a60e-4b7d-b9de-5e3309a9862b",
        "colab": {
          "base_uri": "https://localhost:8080/"
        }
      },
      "execution_count": 50,
      "outputs": [
        {
          "output_type": "stream",
          "name": "stdout",
          "text": [
            "['warangal', 'hyderabad', 'karimnagar', 'hanamkonda']\n",
            "['warangal', 'karimnagar']\n",
            "['warangal', 'hanamkonda']\n",
            "['warangal']\n",
            "['hanamkonda']\n",
            "['warangal', 'hyderabad', 'karimnagar']\n"
          ]
        }
      ]
    },
    {
      "cell_type": "code",
      "source": [
        "print('A series of characters designated as one object known as a string'[::-1][4::3])\n",
        "print(\"----------\")\n",
        "print('Welcome to python training program'[3:10][::-1])\n",
        "#Given print statement [::-1] reverse the whole string\n",
        "#Given print statement [::-1] reverse the whole string\n",
        "#[3:10] slicing operator starts from 3rd index and stops at 10th index and the it will reverse the string."
      ],
      "metadata": {
        "id": "rboAcsf8M5EY",
        "outputId": "f0395bde-8b11-49ae-caac-393cf622fa91",
        "colab": {
          "base_uri": "https://localhost:8080/"
        }
      },
      "execution_count": 51,
      "outputs": [
        {
          "output_type": "stream",
          "name": "stdout",
          "text": [
            "taawkcbe  tgestrcoeeA\n",
            "----------\n",
            "ot emoc\n"
          ]
        }
      ]
    },
    {
      "cell_type": "code",
      "source": [
        "x=int(input(\"length of x\"))\n",
        "a=('Z'*x)\n",
        "#print(a)\n",
        "y=len(a)\n",
        "z=2*y\n",
        "y=('O'*z)\n",
        "#print(y)\n",
        "print(a+y)"
      ],
      "metadata": {
        "id": "tIJts48lNv7S"
      },
      "execution_count": null,
      "outputs": []
    }
  ]
}