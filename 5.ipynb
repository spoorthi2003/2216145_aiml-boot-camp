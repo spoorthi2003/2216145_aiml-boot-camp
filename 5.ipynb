{
  "nbformat": 4,
  "nbformat_minor": 0,
  "metadata": {
    "colab": {
      "name": "5.ipynb",
      "provenance": [],
      "authorship_tag": "ABX9TyPTkUoQdmcRi3TalNqLk6DK",
      "include_colab_link": true
    },
    "kernelspec": {
      "name": "python3",
      "display_name": "Python 3"
    },
    "language_info": {
      "name": "python"
    }
  },
  "cells": [
    {
      "cell_type": "markdown",
      "metadata": {
        "id": "view-in-github",
        "colab_type": "text"
      },
      "source": [
        "<a href=\"https://colab.research.google.com/github/spoorthi2003/2216145_aiml-boot-camp/blob/main/5.ipynb\" target=\"_parent\"><img src=\"https://colab.research.google.com/assets/colab-badge.svg\" alt=\"Open In Colab\"/></a>"
      ]
    },
    {
      "cell_type": "code",
      "source": [
        "dataset='/content/EmissionsData.csv'\n",
        "import pandas as pd\n",
        "df=pd.read_csv(dataset"
      ],
      "metadata": {
        "colab": {
          "base_uri": "https://localhost:8080/",
          "height": 131
        },
        "id": "2v0D0OOXxTq2",
        "outputId": "8042e0ec-0c57-4bc4-ad9e-0dfc067800b3"
      },
      "execution_count": 6,
      "outputs": [
        {
          "output_type": "error",
          "ename": "SyntaxError",
          "evalue": "ignored",
          "traceback": [
            "\u001b[0;36m  File \u001b[0;32m\"<ipython-input-6-3007f5c05da5>\"\u001b[0;36m, line \u001b[0;32m3\u001b[0m\n\u001b[0;31m    df=pd.read_csv(dataset\u001b[0m\n\u001b[0m                          ^\u001b[0m\n\u001b[0;31mSyntaxError\u001b[0m\u001b[0;31m:\u001b[0m unexpected EOF while parsing\n"
          ]
        }
      ]
    },
    {
      "cell_type": "code",
      "source": [
        "df.head(10)"
      ],
      "metadata": {
        "id": "o9aKCpMvvjel"
      },
      "execution_count": null,
      "outputs": []
    },
    {
      "cell_type": "code",
      "source": [
        "df.shape"
      ],
      "metadata": {
        "id": "jnrukTatvjhp"
      },
      "execution_count": null,
      "outputs": []
    },
    {
      "cell_type": "code",
      "source": [
        "df.info()"
      ],
      "metadata": {
        "id": "mSVrq7b_vjkk"
      },
      "execution_count": null,
      "outputs": []
    },
    {
      "cell_type": "code",
      "source": [
        "#visualization\n",
        "import matplotlib.pyplot as plt\n",
        "plt.scatter(df.ENGINESIZE,df.CO2EMISSIONS)\n",
        "plt.xlabel(\"Enginesize..>\")\n",
        "plt.ylabel(\"CO2 Emission..>\")\n",
        "plt.title(\"ENGINE DATASET\")\n",
        "plt.show()"
      ],
      "metadata": {
        "id": "2Qr0xszsvjnN"
      },
      "execution_count": null,
      "outputs": []
    },
    {
      "cell_type": "code",
      "source": [
        "#impurities\n",
        "import seaborn as sns\n",
        "def heatmap(df):\n",
        "  plt.figure(figsize=(6,4))\n",
        "  sns.heatmap(df.isnull(),yticklabels=False,cmap=\"viridis\",cbar=False)\n",
        "  plt.tight_layout()\n",
        "  return plt.show()\n",
        "heatmap(df)"
      ],
      "metadata": {
        "id": "E9IQFxiXvjpv"
      },
      "execution_count": null,
      "outputs": []
    },
    {
      "cell_type": "code",
      "source": [
        "#preprocessing the dataset\n",
        "df=df.dropna()\n",
        "df.head()"
      ],
      "metadata": {
        "id": "oE9uz8kkvjsH"
      },
      "execution_count": null,
      "outputs": []
    },
    {
      "cell_type": "code",
      "source": [
        "import seaborn as sns\n",
        "def heatmap(df):\n",
        "  plt.figure(figsize=(6,4))\n",
        "  sns.heatmap(df.isnull(),yticklabels=False,cmap=\"viridis\",cbar=False)\n",
        "  plt.tight_layout()\n",
        "  return plt.show()\n",
        "heatmap(df)"
      ],
      "metadata": {
        "id": "_c5L0LW0wGkD"
      },
      "execution_count": null,
      "outputs": []
    },
    {
      "cell_type": "code",
      "source": [
        "#preparing the data\n",
        "x=df.iloc[0:,-2:-1].values\n",
        "y=df.iloc[:,-1:].values"
      ],
      "metadata": {
        "id": "HlkU6P2ZwGmo"
      },
      "execution_count": null,
      "outputs": []
    },
    {
      "cell_type": "code",
      "source": [
        "x"
      ],
      "metadata": {
        "id": "N1ex1MeHwGpX"
      },
      "execution_count": null,
      "outputs": []
    },
    {
      "cell_type": "code",
      "source": [
        "y"
      ],
      "metadata": {
        "id": "TCc0SwI1wGr4"
      },
      "execution_count": null,
      "outputs": []
    },
    {
      "cell_type": "code",
      "source": [
        "#method2\n",
        "import numpy as np\n",
        "x=np.array(df[['ENGINESIZE']])\n",
        "y=np.array(df[['CO2EMISSIONS']])\n",
        "x"
      ],
      "metadata": {
        "id": "bPZutk13wTa6"
      },
      "execution_count": null,
      "outputs": []
    },
    {
      "cell_type": "code",
      "source": [
        "y"
      ],
      "metadata": {
        "id": "fcIt7GOQwTdW"
      },
      "execution_count": null,
      "outputs": []
    },
    {
      "cell_type": "code",
      "source": [
        "#splitting\n",
        "from sklearn.model_selection import train_test_split\n",
        "x_train,x_test,y_train,y_test=train_test_split(x,y,test_size=0.2,random_state=0)"
      ],
      "metadata": {
        "id": "bS4bZ0rwwTgM"
      },
      "execution_count": null,
      "outputs": []
    },
    {
      "cell_type": "code",
      "source": [
        "x_train"
      ],
      "metadata": {
        "id": "tIueJw3twTir"
      },
      "execution_count": null,
      "outputs": []
    },
    {
      "cell_type": "code",
      "source": [
        "y_train"
      ],
      "metadata": {
        "id": "INmN6jlywTl7"
      },
      "execution_count": null,
      "outputs": []
    },
    {
      "cell_type": "code",
      "source": [
        "x_test"
      ],
      "metadata": {
        "id": "i77MLyyNwGuS"
      },
      "execution_count": null,
      "outputs": []
    },
    {
      "cell_type": "code",
      "source": [
        "y_test"
      ],
      "metadata": {
        "id": "Jocm6gk5wqPL"
      },
      "execution_count": null,
      "outputs": []
    },
    {
      "cell_type": "code",
      "source": [
        "#training the data\n",
        "from sklearn.linear_model import LinearRegression\n",
        "model=LinearRegression()"
      ],
      "metadata": {
        "id": "oiubVXP1wqR_"
      },
      "execution_count": null,
      "outputs": []
    }
  ]
}