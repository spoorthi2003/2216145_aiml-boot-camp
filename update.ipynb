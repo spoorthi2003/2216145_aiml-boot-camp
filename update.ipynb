{
  "nbformat": 4,
  "nbformat_minor": 0,
  "metadata": {
    "colab": {
      "name": "update.ipynb",
      "provenance": [],
      "authorship_tag": "ABX9TyMxiw0qloxfefOCPiMV0H5r",
      "include_colab_link": true
    },
    "kernelspec": {
      "name": "python3",
      "display_name": "Python 3"
    },
    "language_info": {
      "name": "python"
    }
  },
  "cells": [
    {
      "cell_type": "markdown",
      "metadata": {
        "id": "view-in-github",
        "colab_type": "text"
      },
      "source": [
        "<a href=\"https://colab.research.google.com/github/spoorthi2003/2216145_aiml-boot-camp/blob/main/update.ipynb\" target=\"_parent\"><img src=\"https://colab.research.google.com/assets/colab-badge.svg\" alt=\"Open In Colab\"/></a>"
      ]
    },
    {
      "cell_type": "code",
      "execution_count": null,
      "metadata": {
        "id": "U-QlVjSaeGdB"
      },
      "outputs": [],
      "source": [
        "import sqlite3\n",
        "conn=sqlite3.connect('Bootcamp.db') #step 2 and step 3\n",
        "\n",
        "'''\n",
        "query --> update table_name set column_name=updated_value where <<condition>>\n",
        "'''\n",
        "\n",
        "query = '''update participants set name='Yashwanth' where g_id=2216101\n",
        "        '''\n",
        "\n",
        "conn.execute(query)\n",
        "\n",
        "print(conn.total_changes)\n",
        "conn.commit()\n",
        "conn.close()"
      ]
    }
  ]
}