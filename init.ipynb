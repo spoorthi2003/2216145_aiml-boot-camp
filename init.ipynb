{
  "nbformat": 4,
  "nbformat_minor": 0,
  "metadata": {
    "colab": {
      "name": "init.ipynb",
      "provenance": [],
      "authorship_tag": "ABX9TyO6PkMYwDSKf9FABB+xbb2j",
      "include_colab_link": true
    },
    "kernelspec": {
      "name": "python3",
      "display_name": "Python 3"
    },
    "language_info": {
      "name": "python"
    }
  },
  "cells": [
    {
      "cell_type": "markdown",
      "metadata": {
        "id": "view-in-github",
        "colab_type": "text"
      },
      "source": [
        "<a href=\"https://colab.research.google.com/github/spoorthi2003/2216145_aiml-boot-camp/blob/main/init.ipynb\" target=\"_parent\"><img src=\"https://colab.research.google.com/assets/colab-badge.svg\" alt=\"Open In Colab\"/></a>"
      ]
    },
    {
      "cell_type": "code",
      "source": [
        "main = \"demonstrates main package\"\n",
        "\n",
        "def mainpackdemo():\n",
        "    return \"main-pack demonstration\""
      ],
      "metadata": {
        "id": "ZekC_SCvewlt"
      },
      "execution_count": 1,
      "outputs": []
    }
  ]
}